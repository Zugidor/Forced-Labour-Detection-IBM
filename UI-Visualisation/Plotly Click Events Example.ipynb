{
 "cells": [
  {
   "cell_type": "code",
   "execution_count": 1,
   "id": "a740e7a3",
   "metadata": {},
   "outputs": [
    {
     "data": {
      "text/plain": "FigureWidget({\n    'data': [{'marker': {'color': [#b2b4c7, #b2b4c7, #b2b4c7, #b2b4c7, #b2b4c7,\n               …",
      "application/vnd.jupyter.widget-view+json": {
       "version_major": 2,
       "version_minor": 0,
       "model_id": "37a36e13fea04fa99e21151b377f6d34"
      }
     },
     "metadata": {},
     "output_type": "display_data"
    }
   ],
   "source": [
    "import plotly.graph_objects as go\n",
    "\n",
    "import numpy as np\n",
    "np.random.seed(1)\n",
    "\n",
    "x = np.random.rand(100)\n",
    "y = np.random.rand(100)\n",
    "\n",
    "fig = go.FigureWidget([go.Scatter(x=x,y=y,mode = 'markers')])\n",
    "\n",
    "scatter = fig.data[0]\n",
    "colors = ['#b2b4c7'] * 100\n",
    "scatter.marker.color = colors\n",
    "scatter.marker.size = [10] * 100\n",
    "fig.layout.hovermode = 'closest'\n",
    "\n",
    "def update_point(trace,points,selector):\n",
    "    c = list(scatter.marker.color)\n",
    "    s = list(scatter.marker.size)\n",
    "    for i in points.point_inds:\n",
    "        c[i] = '#a3a7e4'\n",
    "        s[i] = 20\n",
    "        with fig.batch_update():\n",
    "            scatter.marker.color = c\n",
    "            scatter.marker.size = s\n",
    "            \n",
    "            \n",
    "scatter.on_click(update_point)\n",
    "\n",
    "fig\n",
    "\n"
   ]
  },
  {
   "cell_type": "code",
   "execution_count": null,
   "id": "a988d363",
   "metadata": {},
   "outputs": [],
   "source": []
  }
 ],
 "metadata": {
  "kernelspec": {
   "display_name": "Python 3 (ipykernel)",
   "language": "python",
   "name": "python3"
  },
  "language_info": {
   "codemirror_mode": {
    "name": "ipython",
    "version": 3
   },
   "file_extension": ".py",
   "mimetype": "text/x-python",
   "name": "python",
   "nbconvert_exporter": "python",
   "pygments_lexer": "ipython3",
   "version": "3.9.10"
  }
 },
 "nbformat": 4,
 "nbformat_minor": 5
}