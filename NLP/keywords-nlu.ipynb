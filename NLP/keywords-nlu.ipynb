{
 "cells": [
  {
   "cell_type": "code",
   "execution_count": 2,
   "metadata": {},
   "outputs": [],
   "source": [
    "#import IBM API key and service URL from ibm-credentials.env\n",
    "import os\n",
    "from dotenv import load_dotenv\n",
    "load_dotenv('ibm-credentials.env')\n",
    "API_KEY = os.getenv('NATURAL_LANGUAGE_UNDERSTANDING_APIKEY')\n",
    "URL=os.getenv('NATURAL_LANGUAGE_UNDERSTANDING_URL')"
   ]
  },
  {
   "cell_type": "code",
   "execution_count": 6,
   "metadata": {},
   "outputs": [],
   "source": [
    "#import lib\n",
    "import json\n",
    "from ibm_watson import NaturalLanguageUnderstandingV1\n",
    "from ibm_cloud_sdk_core.authenticators import IAMAuthenticator\n",
    "from ibm_watson.natural_language_understanding_v1 import Features, EntitiesOptions, KeywordsOptions"
   ]
  },
  {
   "cell_type": "code",
   "execution_count": 7,
   "metadata": {},
   "outputs": [],
   "source": [
    "#load API key\n",
    "authenticator = IAMAuthenticator(API_KEY)\n",
    "natural_language_understanding = NaturalLanguageUnderstandingV1(\n",
    "    version='2022-03-22',\n",
    "    authenticator=authenticator\n",
    ")\n",
    "\n",
    "natural_language_understanding.set_service_url(URL)"
   ]
  },
  {
   "cell_type": "code",
   "execution_count": null,
   "metadata": {},
   "outputs": [],
   "source": [
    "#csv to 2-D list\n",
    "import csv\n",
    "#import numpy as np\n",
    "data_arr=[]\n",
    "with open(\"locanto.csv\",newline='',encoding='utf-8') as f:\n",
    "    reader=csv.reader(f)\n",
    "    for row in reader:\n",
    "        data_arr.append(row)\n",
    "#print(data_arr)"
   ]
  },
  {
   "cell_type": "code",
   "execution_count": null,
   "metadata": {},
   "outputs": [],
   "source": [
    "#NLU\n",
    "line=1\n",
    "#while line < len(data_arr):\n",
    "while line < 4:\n",
    "    response = natural_language_understanding.analyze(\n",
    "    text=data_arr[line][2],\n",
    "    features=Features(\n",
    "        keywords=KeywordsOptions(emotion=False, sentiment=False,limit=1))).get_result()\n",
    "\n",
    "print(json.dumps(response, indent=2))"
   ]
  }
 ],
 "metadata": {
  "interpreter": {
   "hash": "b89b5cfaba6639976dc87ff2fec6d58faec662063367e2c229c520fe71072417"
  },
  "kernelspec": {
   "display_name": "Python 3.10.2 64-bit",
   "language": "python",
   "name": "python3"
  },
  "language_info": {
   "codemirror_mode": {
    "name": "ipython",
    "version": 3
   },
   "file_extension": ".py",
   "mimetype": "text/x-python",
   "name": "python",
   "nbconvert_exporter": "python",
   "pygments_lexer": "ipython3",
   "version": "3.10.2"
  },
  "orig_nbformat": 4
 },
 "nbformat": 4,
 "nbformat_minor": 2
}